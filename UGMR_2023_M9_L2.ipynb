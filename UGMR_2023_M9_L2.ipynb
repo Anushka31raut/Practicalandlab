{
  "nbformat": 4,
  "nbformat_minor": 0,
  "metadata": {
    "colab": {
      "provenance": [],
      "collapsed_sections": [
        "_7x3NrlFGo78"
      ],
      "include_colab_link": true
    },
    "kernelspec": {
      "name": "python3",
      "display_name": "Python 3"
    },
    "language_info": {
      "name": "python"
    }
  },
  "cells": [
    {
      "cell_type": "markdown",
      "metadata": {
        "id": "view-in-github",
        "colab_type": "text"
      },
      "source": [
        "<a href=\"https://colab.research.google.com/github/Anushka31raut/Practicalandlab/blob/main/UGMR_2023_M9_L2.ipynb\" target=\"_parent\"><img src=\"https://colab.research.google.com/assets/colab-badge.svg\" alt=\"Open In Colab\"/></a>"
      ]
    },
    {
      "cell_type": "markdown",
      "source": [
        "## Module 9: Neural Networks\n",
        "## Lab 2: Using MLP for multiclass classification\n",
        "#### Module Coordinator: Shantanu Agrawal\n",
        "\n",
        "\n"
      ],
      "metadata": {
        "id": "Og_zWt_sEVKz"
      }
    },
    {
      "cell_type": "markdown",
      "metadata": {
        "id": "NP_76wepF6lj"
      },
      "source": [
        "Till now, we got to know what is MLP, how it can be used for classification. We have done the single class classification in the previous lab session.\n",
        "\n",
        "In this notebook we will try to use an MLP for multiclass classification on the iris dataset."
      ]
    },
    {
      "cell_type": "code",
      "metadata": {
        "id": "0tWls1xEs4IC"
      },
      "source": [
        "import numpy as np\n",
        "import pandas as pd\n",
        "import matplotlib.pyplot as plt"
      ],
      "execution_count": null,
      "outputs": []
    },
    {
      "cell_type": "markdown",
      "metadata": {
        "id": "AzTYvf9atkU6"
      },
      "source": [
        "# Data preparation"
      ]
    },
    {
      "cell_type": "code",
      "metadata": {
        "id": "c0JZiPaNtjWl"
      },
      "source": [
        "from sklearn.datasets import load_iris\n",
        "from sklearn.model_selection import train_test_split\n",
        "from sklearn.preprocessing import StandardScaler\n",
        "\n",
        "# Load the iris dataset\n",
        "iris = load_iris()\n",
        "X = iris['data']\n",
        "y = iris['target']\n",
        "names = iris['target_names']\n",
        "feature_names = iris['feature_names']\n",
        "\n",
        "# Scale data to have mean 0 and variance 1\n",
        "scaler = StandardScaler()\n",
        "X_scaled = scaler.fit_transform(X)\n",
        "\n",
        "# Split the data set into training and testing\n",
        "X_train, X_test, y_train, y_test = train_test_split(\n",
        "    X_scaled, y, test_size=0.2, random_state=2)"
      ],
      "execution_count": null,
      "outputs": []
    },
    {
      "cell_type": "markdown",
      "metadata": {
        "id": "G6j7J1YWtrLm"
      },
      "source": [
        "# Visualising dataset"
      ]
    },
    {
      "cell_type": "code",
      "metadata": {
        "colab": {
          "base_uri": "https://localhost:8080/",
          "height": 388
        },
        "id": "TD1UuMr_txc1",
        "outputId": "042db80c-505a-43c7-836c-f40e72db378d"
      },
      "source": [
        "fig, (ax1, ax2) = plt.subplots(1, 2, figsize=(16, 6))\n",
        "for target, target_name in enumerate(names):\n",
        "    X_plot = X[y == target]\n",
        "    ax1.plot(X_plot[:, 0], X_plot[:, 1],\n",
        "             linestyle='none',\n",
        "             marker='o',\n",
        "             label=target_name)\n",
        "ax1.set_xlabel(feature_names[0])\n",
        "ax1.set_ylabel(feature_names[1])\n",
        "ax1.axis('equal')\n",
        "ax1.legend();\n",
        "\n",
        "for target, target_name in enumerate(names):\n",
        "    X_plot = X[y == target]\n",
        "    ax2.plot(X_plot[:, 2], X_plot[:, 3],\n",
        "             linestyle='none',\n",
        "             marker='o',\n",
        "             label=target_name)\n",
        "ax2.set_xlabel(feature_names[2])\n",
        "ax2.set_ylabel(feature_names[3])\n",
        "ax2.axis('equal')\n",
        "ax2.legend();\n"
      ],
      "execution_count": null,
      "outputs": [
        {
          "output_type": "display_data",
          "data": {
            "text/plain": [
              "<Figure size 1152x432 with 2 Axes>"
            ],
            "image/png": "[encoded data removed]"
          },
          "metadata": {
            "needs_background": "light"
          }
        }
      ]
    },
    {
      "cell_type": "markdown",
      "metadata": {
        "id": "_7x3NrlFGo78"
      },
      "source": [
        "# Observing the dataset\n",
        "\n",
        "Thus, we can observe the dataset and see that there are *3 classes, setosa, versicolor, and virginica*.\n",
        "\n",
        "There are *4 features, sepal width, sepal length, petal width, petal length*."
      ]
    },
    {
      "cell_type": "markdown",
      "metadata": {
        "id": "ZROKwQi0t7T5"
      },
      "source": [
        "# MLP for multiclass classification"
      ]
    },
    {
      "cell_type": "code",
      "metadata": {
        "id": "kfnKnpVitz3s"
      },
      "source": [
        "import torch\n",
        "import torch.nn.functional as F\n",
        "import torch.nn as nn\n",
        "from torch.autograd import Variable\n",
        "import tqdm"
      ],
      "execution_count": null,
      "outputs": []
    },
    {
      "cell_type": "code",
      "metadata": {
        "id": "YL7l9Mk_uFxG"
      },
      "source": [
        "# Defining the model architecture\n",
        "class Model(nn.Module):\n",
        "    def __init__(self, input_dim):\n",
        "        super(Model, self).__init__()\n",
        "        self.layer1 = nn.Linear(input_dim, 50)\n",
        "        self.layer2 = nn.Linear(50, 50)\n",
        "        self.layer3 = nn.Linear(50, 3)\n",
        "\n",
        "    def forward(self, x):\n",
        "        x = F.relu(self.layer1(x))\n",
        "        x = F.relu(self.layer2(x))\n",
        "        x = F.softmax(self.layer3(x), dim=1)\n",
        "        return x"
      ],
      "execution_count": null,
      "outputs": []
    },
    {
      "cell_type": "code",
      "metadata": {
        "id": "y5HSl1N4uI2f"
      },
      "source": [
        "# Instantiating the model, using Adam optimiser, and Cross Entropy Loss, which is quite commonlu used for classification tasks.\n",
        "model     = Model(X_train.shape[1])\n",
        "optimizer = torch.optim.Adam(model.parameters(), lr=0.001)\n",
        "loss_fn   = nn.CrossEntropyLoss()"
      ],
      "execution_count": null,
      "outputs": []
    },
    {
      "cell_type": "markdown",
      "metadata": {
        "id": "S3mTXyDduQaY"
      },
      "source": [
        "# Train the model"
      ]
    },
    {
      "cell_type": "code",
      "metadata": {
        "colab": {
          "base_uri": "https://localhost:8080/"
        },
        "id": "LcLoeG9XuML9",
        "outputId": "7c37503d-64c2-49e1-a5b2-5a7245445256"
      },
      "source": [
        "# Train for 100 epochs\n",
        "EPOCHS  = 100\n",
        "X_train = torch.from_numpy(X_train).float()\n",
        "X_test= torch.from_numpy(X_test).float()\n",
        "y_test = torch.from_numpy(y_test)\n",
        "y_train = torch.from_numpy(y_train)\n",
        "\n",
        "\n",
        "loss_list     = np.zeros((EPOCHS,))\n",
        "accuracy_list = np.zeros((EPOCHS,))\n",
        "\n",
        "for epoch in tqdm.trange(EPOCHS):\n",
        "    y_pred = model(X_train)\n",
        "    loss = loss_fn(y_pred, y_train)\n",
        "    loss_list[epoch] = loss.item()\n",
        "\n",
        "    # Zero gradients\n",
        "    optimizer.zero_grad()\n",
        "    loss.backward()\n",
        "    optimizer.step()\n",
        "\n",
        "    with torch.no_grad():\n",
        "        y_pred = model(X_test)\n",
        "        correct = (torch.argmax(y_pred, dim=1) == y_test).type(torch.FloatTensor)\n",
        "        accuracy_list[epoch] = correct.mean()"
      ],
      "execution_count": null,
      "outputs": [
        {
          "output_type": "stream",
          "name": "stderr",
          "text": [
            "100%|██████████| 100/100 [00:00<00:00, 667.06it/s]\n"
          ]
        }
      ]
    },
    {
      "cell_type": "markdown",
      "metadata": {
        "id": "qQdMVtTouqnl"
      },
      "source": [
        "# Plot training progress"
      ]
    },
    {
      "cell_type": "code",
      "metadata": {
        "colab": {
          "base_uri": "https://localhost:8080/",
          "height": 388
        },
        "id": "WTNRq4mDutrQ",
        "outputId": "bec8b7b6-65c1-44bd-e0a8-5cdc0b5cc9af"
      },
      "source": [
        "fig, (ax1, ax2) = plt.subplots(2, figsize=(12, 6), sharex=True)\n",
        "\n",
        "ax1.plot(accuracy_list)\n",
        "ax1.set_ylabel(\"validation accuracy\")\n",
        "ax2.plot(loss_list)\n",
        "ax2.set_ylabel(\"validation loss\")\n",
        "ax2.set_xlabel(\"epochs\");"
      ],
      "execution_count": null,
      "outputs": [
        {
          "output_type": "display_data",
          "data": {
            "text/plain": [
              "<Figure size 864x432 with 2 Axes>"
            ],
            "image/png": "[encoded data removed]"
          },
          "metadata": {
            "needs_background": "light"
          }
        }
      ]
    },
    {
      "cell_type": "markdown",
      "metadata": {
        "id": "-mZO8zVx2DOz"
      },
      "source": [
        "# Experiment with the neural network architecture\n",
        "\n",
        "\n",
        "1.   Try changing the number of hidden layers.\n",
        "2.   Try changing the number of neurons in the hidden layer.\n",
        "3.   Try using a different activation function.\n",
        "\n",
        "\n",
        "\n",
        "\n",
        "Can you observe any changes?"
      ]
    },
    {
      "cell_type": "code",
      "source": [
        "#Ans 1:\n",
        "\n",
        "import tensorflow as tf\n",
        "from tensorflow.keras.models import Sequential\n",
        "from tensorflow.keras.layers import Dense\n",
        "from tensorflow.keras.optimizers import Adam\n",
        "\n",
        "# Define the number of input features\n",
        "input_dim = 10\n",
        "\n",
        "# Define the number of output classes\n",
        "output_dim = 1\n",
        "\n",
        "# Define the number of hidden layers to experiment with\n",
        "hidden_layers = [1, 2, 3]\n",
        "\n",
        "# Define other parameters\n",
        "activation = 'relu'\n",
        "learning_rate = 0.001\n",
        "epochs = 10\n",
        "batch_size = 32\n",
        "\n",
        "# Generate sample data (random data for demonstration)\n",
        "X_train = tf.random.normal(shape=(1000, input_dim))\n",
        "y_train = tf.random.normal(shape=(1000, output_dim))\n",
        "\n",
        "# Iterate over different numbers of hidden layers\n",
        "for num_layers in hidden_layers:\n",
        "    print(f\"Training with {num_layers} hidden layer(s)\")\n",
        "\n",
        "    # Define the model\n",
        "    model = Sequential()\n",
        "    model.add(Dense(64, input_dim=input_dim, activation=activation))\n",
        "\n",
        "    # Add hidden layers\n",
        "    for _ in range(num_layers):\n",
        "        model.add(Dense(64, activation=activation))\n",
        "\n",
        "    # Add output layer\n",
        "    model.add(Dense(output_dim, activation='linear'))\n",
        "\n",
        "    # Compile the model\n",
        "    model.compile(optimizer=Adam(learning_rate=learning_rate),\n",
        "                  loss='mse')\n",
        "\n",
        "    # Train the model\n",
        "    model.fit(X_train, y_train, epochs=epochs, batch_size=batch_size, verbose=1)"
      ],
      "metadata": {
        "colab": {
          "base_uri": "https://localhost:8080/"
        },
        "id": "oZdjCDubzyJ0",
        "outputId": "b19f6a5f-8d69-492a-edc1-378588eeb0b9"
      },
      "execution_count": 1,
      "outputs": [
        {
          "output_type": "stream",
          "name": "stdout",
          "text": [
            "Training with 1 hidden layer(s)\n",
            "Epoch 1/10\n",
            "32/32 [==============================] - 1s 3ms/step - loss: 1.0491\n",
            "Epoch 2/10\n",
            "32/32 [==============================] - 0s 3ms/step - loss: 0.9791\n",
            "Epoch 3/10\n",
            "32/32 [==============================] - 0s 3ms/step - loss: 0.9627\n",
            "Epoch 4/10\n",
            "32/32 [==============================] - 0s 3ms/step - loss: 0.9423\n",
            "Epoch 5/10\n",
            "32/32 [==============================] - 0s 3ms/step - loss: 0.9293\n",
            "Epoch 6/10\n",
            "32/32 [==============================] - 0s 3ms/step - loss: 0.9116\n",
            "Epoch 7/10\n",
            "32/32 [==============================] - 0s 4ms/step - loss: 0.8993\n",
            "Epoch 8/10\n",
            "32/32 [==============================] - 0s 6ms/step - loss: 0.8920\n",
            "Epoch 9/10\n",
            "32/32 [==============================] - 0s 3ms/step - loss: 0.8757\n",
            "Epoch 10/10\n",
            "32/32 [==============================] - 0s 4ms/step - loss: 0.8652\n",
            "Training with 2 hidden layer(s)\n",
            "Epoch 1/10\n",
            "32/32 [==============================] - 1s 2ms/step - loss: 1.0182\n",
            "Epoch 2/10\n",
            "32/32 [==============================] - 0s 2ms/step - loss: 0.9767\n",
            "Epoch 3/10\n",
            "32/32 [==============================] - 0s 2ms/step - loss: 0.9543\n",
            "Epoch 4/10\n",
            "32/32 [==============================] - 0s 2ms/step - loss: 0.9359\n",
            "Epoch 5/10\n",
            "32/32 [==============================] - 0s 3ms/step - loss: 0.9187\n",
            "Epoch 6/10\n",
            "32/32 [==============================] - 0s 2ms/step - loss: 0.8979\n",
            "Epoch 7/10\n",
            "32/32 [==============================] - 0s 2ms/step - loss: 0.8797\n",
            "Epoch 8/10\n",
            "32/32 [==============================] - 0s 3ms/step - loss: 0.8579\n",
            "Epoch 9/10\n",
            "32/32 [==============================] - 0s 3ms/step - loss: 0.8394\n",
            "Epoch 10/10\n",
            "32/32 [==============================] - 0s 5ms/step - loss: 0.8228\n",
            "Training with 3 hidden layer(s)\n",
            "Epoch 1/10\n",
            "32/32 [==============================] - 1s 4ms/step - loss: 1.0037\n",
            "Epoch 2/10\n",
            "32/32 [==============================] - 0s 3ms/step - loss: 0.9673\n",
            "Epoch 3/10\n",
            "32/32 [==============================] - 0s 4ms/step - loss: 0.9494\n",
            "Epoch 4/10\n",
            "32/32 [==============================] - 0s 4ms/step - loss: 0.9291\n",
            "Epoch 5/10\n",
            "32/32 [==============================] - 0s 4ms/step - loss: 0.9048\n",
            "Epoch 6/10\n",
            "32/32 [==============================] - 0s 4ms/step - loss: 0.8720\n",
            "Epoch 7/10\n",
            "32/32 [==============================] - 0s 3ms/step - loss: 0.8291\n",
            "Epoch 8/10\n",
            "32/32 [==============================] - 0s 3ms/step - loss: 0.8136\n",
            "Epoch 9/10\n",
            "32/32 [==============================] - 0s 2ms/step - loss: 0.7507\n",
            "Epoch 10/10\n",
            "32/32 [==============================] - 0s 2ms/step - loss: 0.7209\n"
          ]
        }
      ]
    },
    {
      "cell_type": "code",
      "source": [
        "#Ans 2:\n",
        "import tensorflow as tf\n",
        "from tensorflow.keras.models import Sequential\n",
        "from tensorflow.keras.layers import Dense\n",
        "from tensorflow.keras.optimizers import Adam\n",
        "\n",
        "# Define the number of input features\n",
        "input_dim = 10\n",
        "\n",
        "# Define the number of output classes\n",
        "output_dim = 1\n",
        "\n",
        "# Define the number of neurons in hidden layers to experiment with\n",
        "hidden_neurons = [32, 64, 128]\n",
        "\n",
        "# Define other parameters\n",
        "activation = 'relu'\n",
        "learning_rate = 0.001\n",
        "epochs = 10\n",
        "batch_size = 32\n",
        "\n",
        "# Generate sample data (random data for demonstration)\n",
        "X_train = tf.random.normal(shape=(1000, input_dim))\n",
        "y_train = tf.random.normal(shape=(1000, output_dim))\n",
        "\n",
        "# Iterate over different numbers of neurons in hidden layers\n",
        "for neurons in hidden_neurons:\n",
        "    print(f\"Training with {neurons} neurons in hidden layer(s)\")\n",
        "\n",
        "    # Define the model\n",
        "    model = Sequential()\n",
        "    model.add(Dense(neurons, input_dim=input_dim, activation=activation))\n",
        "\n",
        "    # Add additional hidden layers (if needed)\n",
        "    # model.add(Dense(neurons, activation=activation))\n",
        "\n",
        "    # Add output layer\n",
        "    model.add(Dense(output_dim, activation='linear'))\n",
        "\n",
        "    # Compile the model\n",
        "    model.compile(optimizer=Adam(learning_rate=learning_rate),\n",
        "                  loss='mse')\n",
        "\n",
        "    # Train the model\n",
        "    model.fit(X_train, y_train, epochs=epochs, batch_size=batch_size, verbose=1)"
      ],
      "metadata": {
        "colab": {
          "base_uri": "https://localhost:8080/"
        },
        "id": "vdo3h6_F0Ai1",
        "outputId": "abd9559f-9b96-45e7-8d2d-9556dfd0eb41"
      },
      "execution_count": 2,
      "outputs": [
        {
          "output_type": "stream",
          "name": "stdout",
          "text": [
            "Training with 32 neurons in hidden layer(s)\n",
            "Epoch 1/10\n",
            "32/32 [==============================] - 1s 3ms/step - loss: 1.1820\n",
            "Epoch 2/10\n",
            "32/32 [==============================] - 0s 3ms/step - loss: 1.0621\n",
            "Epoch 3/10\n",
            "32/32 [==============================] - 0s 3ms/step - loss: 1.0125\n",
            "Epoch 4/10\n",
            "32/32 [==============================] - 0s 2ms/step - loss: 0.9845\n",
            "Epoch 5/10\n",
            "32/32 [==============================] - 0s 2ms/step - loss: 0.9655\n",
            "Epoch 6/10\n",
            "32/32 [==============================] - 0s 2ms/step - loss: 0.9508\n",
            "Epoch 7/10\n",
            "32/32 [==============================] - 0s 3ms/step - loss: 0.9373\n",
            "Epoch 8/10\n",
            "32/32 [==============================] - 0s 2ms/step - loss: 0.9266\n",
            "Epoch 9/10\n",
            "32/32 [==============================] - 0s 2ms/step - loss: 0.9169\n",
            "Epoch 10/10\n",
            "32/32 [==============================] - 0s 2ms/step - loss: 0.9070\n",
            "Training with 64 neurons in hidden layer(s)\n",
            "Epoch 1/10\n",
            "32/32 [==============================] - 1s 2ms/step - loss: 1.0265\n",
            "Epoch 2/10\n",
            "32/32 [==============================] - 0s 2ms/step - loss: 0.9524\n",
            "Epoch 3/10\n",
            "32/32 [==============================] - 0s 2ms/step - loss: 0.9299\n",
            "Epoch 4/10\n",
            "32/32 [==============================] - 0s 2ms/step - loss: 0.9165\n",
            "Epoch 5/10\n",
            "32/32 [==============================] - 0s 2ms/step - loss: 0.9086\n",
            "Epoch 6/10\n",
            "32/32 [==============================] - 0s 2ms/step - loss: 0.8976\n",
            "Epoch 7/10\n",
            "32/32 [==============================] - 0s 2ms/step - loss: 0.8896\n",
            "Epoch 8/10\n",
            "32/32 [==============================] - 0s 2ms/step - loss: 0.8799\n",
            "Epoch 9/10\n",
            "32/32 [==============================] - 0s 2ms/step - loss: 0.8745\n",
            "Epoch 10/10\n",
            "32/32 [==============================] - 0s 2ms/step - loss: 0.8679\n",
            "Training with 128 neurons in hidden layer(s)\n",
            "Epoch 1/10\n",
            "32/32 [==============================] - 1s 2ms/step - loss: 0.9658\n",
            "Epoch 2/10\n",
            "32/32 [==============================] - 0s 2ms/step - loss: 0.9089\n",
            "Epoch 3/10\n",
            "32/32 [==============================] - 0s 2ms/step - loss: 0.8942\n",
            "Epoch 4/10\n",
            "32/32 [==============================] - 0s 2ms/step - loss: 0.8811\n",
            "Epoch 5/10\n",
            "32/32 [==============================] - 0s 2ms/step - loss: 0.8692\n",
            "Epoch 6/10\n",
            "32/32 [==============================] - 0s 2ms/step - loss: 0.8605\n",
            "Epoch 7/10\n",
            "32/32 [==============================] - 0s 2ms/step - loss: 0.8505\n",
            "Epoch 8/10\n",
            "32/32 [==============================] - 0s 2ms/step - loss: 0.8444\n",
            "Epoch 9/10\n",
            "32/32 [==============================] - 0s 2ms/step - loss: 0.8385\n",
            "Epoch 10/10\n",
            "32/32 [==============================] - 0s 2ms/step - loss: 0.8340\n"
          ]
        }
      ]
    },
    {
      "cell_type": "code",
      "source": [
        "#Ans 3:\n",
        "import tensorflow as tf\n",
        "from tensorflow.keras.models import Sequential\n",
        "from tensorflow.keras.layers import Dense\n",
        "from tensorflow.keras.activations import relu, tanh, sigmoid\n",
        "from tensorflow.keras.optimizers import Adam\n",
        "\n",
        "# Define the number of input features\n",
        "input_dim = 10\n",
        "\n",
        "# Define the number of output classes\n",
        "output_dim = 1\n",
        "\n",
        "# Define the activation functions to experiment with\n",
        "activation_functions = [relu, tanh, sigmoid]\n",
        "\n",
        "# Define other parameters\n",
        "num_neurons = 64\n",
        "learning_rate = 0.001\n",
        "epochs = 10\n",
        "batch_size = 32\n",
        "\n",
        "# Generate sample data (random data for demonstration)\n",
        "X_train = tf.random.normal(shape=(1000, input_dim))\n",
        "y_train = tf.random.normal(shape=(1000, output_dim))\n",
        "\n",
        "# Iterate over different activation functions\n",
        "for activation_fn in activation_functions:\n",
        "    print(f\"Training with {activation_fn.__name__} activation function\")\n",
        "\n",
        "    # Define the model\n",
        "    model = Sequential()\n",
        "    model.add(Dense(num_neurons, input_dim=input_dim, activation=activation_fn))\n",
        "\n",
        "    # Add output layer\n",
        "    model.add(Dense(output_dim, activation='linear'))\n",
        "\n",
        "    # Compile the model\n",
        "    model.compile(optimizer=Adam(learning_rate=learning_rate),\n",
        "                  loss='mse')\n",
        "\n",
        "    # Train the model\n",
        "    model.fit(X_train, y_train, epochs=epochs, batch_size=batch_size, verbose=1)"
      ],
      "metadata": {
        "colab": {
          "base_uri": "https://localhost:8080/"
        },
        "id": "z79K2m260O_W",
        "outputId": "5298eea7-8ce1-466e-8de6-a1f5bf04932b"
      },
      "execution_count": 3,
      "outputs": [
        {
          "output_type": "stream",
          "name": "stdout",
          "text": [
            "Training with relu activation function\n",
            "Epoch 1/10\n",
            "32/32 [==============================] - 1s 2ms/step - loss: 1.0388\n",
            "Epoch 2/10\n",
            "32/32 [==============================] - 0s 2ms/step - loss: 0.9581\n",
            "Epoch 3/10\n",
            "32/32 [==============================] - 0s 2ms/step - loss: 0.9329\n",
            "Epoch 4/10\n",
            "32/32 [==============================] - 0s 2ms/step - loss: 0.9200\n",
            "Epoch 5/10\n",
            "32/32 [==============================] - 0s 2ms/step - loss: 0.9064\n",
            "Epoch 6/10\n",
            "32/32 [==============================] - 0s 2ms/step - loss: 0.8963\n",
            "Epoch 7/10\n",
            "32/32 [==============================] - 0s 2ms/step - loss: 0.8898\n",
            "Epoch 8/10\n",
            "32/32 [==============================] - 0s 2ms/step - loss: 0.8844\n",
            "Epoch 9/10\n",
            "32/32 [==============================] - 0s 2ms/step - loss: 0.8787\n",
            "Epoch 10/10\n",
            "32/32 [==============================] - 0s 2ms/step - loss: 0.8697\n",
            "Training with tanh activation function\n",
            "Epoch 1/10\n",
            "32/32 [==============================] - 1s 2ms/step - loss: 1.0672\n",
            "Epoch 2/10\n",
            "32/32 [==============================] - 0s 2ms/step - loss: 0.9414\n",
            "Epoch 3/10\n",
            "32/32 [==============================] - 0s 2ms/step - loss: 0.9394\n",
            "Epoch 4/10\n",
            "32/32 [==============================] - 0s 2ms/step - loss: 0.9350\n",
            "Epoch 5/10\n",
            "32/32 [==============================] - 0s 2ms/step - loss: 0.9361\n",
            "Epoch 6/10\n",
            "32/32 [==============================] - 0s 2ms/step - loss: 0.9358\n",
            "Epoch 7/10\n",
            "32/32 [==============================] - 0s 2ms/step - loss: 0.9365\n",
            "Epoch 8/10\n",
            "32/32 [==============================] - 0s 2ms/step - loss: 0.9362\n",
            "Epoch 9/10\n",
            "32/32 [==============================] - 0s 2ms/step - loss: 0.9323\n",
            "Epoch 10/10\n",
            "32/32 [==============================] - 0s 2ms/step - loss: 0.9322\n",
            "Training with sigmoid activation function\n",
            "Epoch 1/10\n",
            "32/32 [==============================] - 1s 2ms/step - loss: 1.0136\n",
            "Epoch 2/10\n",
            "32/32 [==============================] - 0s 2ms/step - loss: 0.9503\n",
            "Epoch 3/10\n",
            "32/32 [==============================] - 0s 2ms/step - loss: 0.9364\n",
            "Epoch 4/10\n",
            "32/32 [==============================] - 0s 2ms/step - loss: 0.9328\n",
            "Epoch 5/10\n",
            "32/32 [==============================] - 0s 2ms/step - loss: 0.9302\n",
            "Epoch 6/10\n",
            "32/32 [==============================] - 0s 2ms/step - loss: 0.9307\n",
            "Epoch 7/10\n",
            "32/32 [==============================] - 0s 2ms/step - loss: 0.9296\n",
            "Epoch 8/10\n",
            "32/32 [==============================] - 0s 2ms/step - loss: 0.9305\n",
            "Epoch 9/10\n",
            "32/32 [==============================] - 0s 2ms/step - loss: 0.9311\n",
            "Epoch 10/10\n",
            "32/32 [==============================] - 0s 2ms/step - loss: 0.9304\n"
          ]
        }
      ]
    }
  ]
}